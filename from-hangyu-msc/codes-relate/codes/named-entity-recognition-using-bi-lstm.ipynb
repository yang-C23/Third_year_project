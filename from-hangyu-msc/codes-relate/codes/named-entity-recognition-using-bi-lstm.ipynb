{
 "cells": [
  {
   "cell_type": "markdown",
   "metadata": {},
   "source": [
    "**Install Dependencies and Load Dataset**"
   ]
  },
  {
   "cell_type": "markdown",
   "metadata": {},
   "source": [
    "In this project, I build and evaluate a NER model, mainly using torch and torchtext libraries."
   ]
  },
  {
   "cell_type": "code",
   "execution_count": 1,
   "metadata": {
    "_cell_guid": "b1076dfc-b9ad-4769-8c92-a6c4dae69d19",
    "_uuid": "8f2839f25d086af736a60e9eeb907d3b93b6e0e5",
    "execution": {
     "iopub.execute_input": "2021-08-12T09:37:21.743870Z",
     "iopub.status.busy": "2021-08-12T09:37:21.743452Z",
     "iopub.status.idle": "2021-08-12T09:37:44.528998Z",
     "shell.execute_reply": "2021-08-12T09:37:44.528127Z",
     "shell.execute_reply.started": "2021-08-12T09:37:21.743762Z"
    }
   },
   "outputs": [
    {
     "name": "stdout",
     "output_type": "stream",
     "text": [
      "Collecting torchtext==0.6.0\n",
      "  Downloading torchtext-0.6.0-py3-none-any.whl (64 kB)\n",
      "\u001b[2K     \u001b[90m━━━━━━━━━━━━━━━━━━━━━━━━━━━━━━━━━━━━━━━\u001b[0m \u001b[32m64.2/64.2 kB\u001b[0m \u001b[31m150.8 kB/s\u001b[0m eta \u001b[36m0:00:00\u001b[0ma \u001b[36m0:00:01\u001b[0m\n",
      "\u001b[?25hRequirement already satisfied: six in /Users/brian/opt/anaconda3/lib/python3.8/site-packages (from torchtext==0.6.0) (1.16.0)\n",
      "Requirement already satisfied: numpy in /Users/brian/opt/anaconda3/lib/python3.8/site-packages (from torchtext==0.6.0) (1.20.1)\n",
      "Requirement already satisfied: requests in /Users/brian/opt/anaconda3/lib/python3.8/site-packages (from torchtext==0.6.0) (2.27.1)\n",
      "Requirement already satisfied: tqdm in /Users/brian/opt/anaconda3/lib/python3.8/site-packages (from torchtext==0.6.0) (4.64.0)\n",
      "Requirement already satisfied: sentencepiece in /Users/brian/opt/anaconda3/lib/python3.8/site-packages (from torchtext==0.6.0) (0.1.96)\n",
      "Requirement already satisfied: torch in /Users/brian/opt/anaconda3/lib/python3.8/site-packages (from torchtext==0.6.0) (1.11.0)\n",
      "Requirement already satisfied: charset-normalizer~=2.0.0 in /Users/brian/opt/anaconda3/lib/python3.8/site-packages (from requests->torchtext==0.6.0) (2.0.12)\n",
      "Requirement already satisfied: urllib3<1.27,>=1.21.1 in /Users/brian/opt/anaconda3/lib/python3.8/site-packages (from requests->torchtext==0.6.0) (1.26.4)\n",
      "Requirement already satisfied: idna<4,>=2.5 in /Users/brian/opt/anaconda3/lib/python3.8/site-packages (from requests->torchtext==0.6.0) (2.10)\n",
      "Requirement already satisfied: certifi>=2017.4.17 in /Users/brian/opt/anaconda3/lib/python3.8/site-packages (from requests->torchtext==0.6.0) (2020.12.5)\n",
      "Requirement already satisfied: typing-extensions in /Users/brian/opt/anaconda3/lib/python3.8/site-packages (from torch->torchtext==0.6.0) (3.10.0.2)\n",
      "Installing collected packages: torchtext\n",
      "  Attempting uninstall: torchtext\n",
      "    Found existing installation: torchtext 0.11.2\n",
      "    Uninstalling torchtext-0.11.2:\n",
      "      Successfully uninstalled torchtext-0.11.2\n",
      "Successfully installed torchtext-0.6.0\n",
      "\n",
      "\u001b[1m[\u001b[0m\u001b[34;49mnotice\u001b[0m\u001b[1;39;49m]\u001b[0m\u001b[39;49m A new release of pip available: \u001b[0m\u001b[31;49m22.2\u001b[0m\u001b[39;49m -> \u001b[0m\u001b[32;49m22.2.2\u001b[0m\n",
      "\u001b[1m[\u001b[0m\u001b[34;49mnotice\u001b[0m\u001b[1;39;49m]\u001b[0m\u001b[39;49m To update, run: \u001b[0m\u001b[32;49mpip install --upgrade pip\u001b[0m\n"
     ]
    }
   ],
   "source": [
    "!pip install torchtext==0.6.0 #legacy \n",
    "\n",
    "import torchtext\n",
    "import time\n",
    "import torch\n",
    "from torch import nn\n",
    "from torch.optim import Adam\n",
    "from torchtext.data import Field, BucketIterator\n",
    "from torchtext.datasets import SequenceTaggingDataset\n",
    "import matplotlib.pyplot as plt\n",
    "import spacy\n",
    "from collections import defaultdict, Counter\n",
    "# For CRF layer, \"from TorchCRF import CRF\" is used, but its not implemented.\n"
   ]
  },
  {
   "cell_type": "markdown",
   "metadata": {},
   "source": [
    "First custom function to read txt. files created. Since CoNNL-2003 dataset is used for different sequential labelling tasks too, files has 4 different values divided by spaces. These values are,\n",
    "- Word Token\n",
    "- POS tag\n",
    "- Chunking tag\n",
    "- NER tag\n",
    "\n",
    "An example sentence as follows:\n",
    "\n",
    "      EU NNP B-NP B-ORG\n",
    "      rejects VBZ B-VP O\n",
    "      German JJ B-NP B-MISC\n",
    "      call NN I-NP O\n",
    "      to TO B-VP O\n",
    "      boycott VB I-VP O\n",
    "      British JJ B-NP B-MISC\n",
    "      lamb NN I-NP O\n",
    "      . . O O\n"
   ]
  },
  {
   "cell_type": "code",
   "execution_count": 3,
   "metadata": {
    "execution": {
     "iopub.execute_input": "2021-08-12T09:37:44.530868Z",
     "iopub.status.busy": "2021-08-12T09:37:44.530510Z",
     "iopub.status.idle": "2021-08-12T09:37:44.537270Z",
     "shell.execute_reply": "2021-08-12T09:37:44.536457Z",
     "shell.execute_reply.started": "2021-08-12T09:37:44.530827Z"
    }
   },
   "outputs": [],
   "source": [
    "# from TorchCRF import CRF\n",
    "def read_data(corpus_file, datafields):\n",
    "    with open(corpus_file, encoding='utf-8') as f:\n",
    "        examples = []\n",
    "        words = []\n",
    "        labels = []\n",
    "        for line in f:\n",
    "            line = line.strip()\n",
    "            if not line:\n",
    "                examples.append(torchtext.data.Example.fromlist([words, labels], datafields))\n",
    "                words = []\n",
    "                labels = []\n",
    "            else:\n",
    "                columns = line.split()\n",
    "                words.append(columns[0])\n",
    "                labels.append(columns[-1])\n",
    "        return torchtext.data.Dataset(examples, datafields)"
   ]
  },
  {
   "cell_type": "markdown",
   "metadata": {},
   "source": [
    "Below, Corpus object is constructed. This object uses previous function to read txt. files, uses torchtext's Field objects to build vocabularies and padding indexes. And, BucketIterator to create iterators.\n",
    "\n",
    "While instantiating this object, we can pass batch_size, min_word_freq, and pretrained_Vectors arguments."
   ]
  },
  {
   "cell_type": "code",
   "execution_count": 6,
   "metadata": {
    "execution": {
     "iopub.execute_input": "2021-08-12T09:42:44.074224Z",
     "iopub.status.busy": "2021-08-12T09:42:44.073868Z",
     "iopub.status.idle": "2021-08-12T09:42:44.084160Z",
     "shell.execute_reply": "2021-08-12T09:42:44.083175Z",
     "shell.execute_reply.started": "2021-08-12T09:42:44.074192Z"
    }
   },
   "outputs": [],
   "source": [
    "class Corpus(object):\n",
    "\n",
    "  def __init__(self, pretrained_Vector, min_word_freq, batch_size):\n",
    "    # Fields created\n",
    "    self.word_field = Field(init_token='<bos>', eos_token='<eos>', sequential=True, lower=True)\n",
    "    self.tag_field = Field(init_token='<bos>', eos_token='<eos>', sequential=True, unk_token=None)\n",
    "    self.fields = [('word', self.word_field), ('tag', self.tag_field)]\n",
    "\n",
    "    # Using previous function, datasets created\n",
    "    self.train_dataset = read_data('data/train.txt', self.fields)\n",
    "    self.test_dataset = read_data('data/test.txt', self.fields)\n",
    "    self.val_dataset = read_data('data/valid.txt', self.fields)\n",
    "\n",
    "    # Vocabularies created\n",
    "    self.word_field.build_vocab(self.train_dataset.word, \n",
    "                                min_freq=min_word_freq,\n",
    "                                vectors = pretrained_Vector)\n",
    "    \n",
    "    self.tag_field.build_vocab(self.train_dataset.tag)\n",
    "\n",
    "    # Iterators created\n",
    "    self.train_iter, self.val_iter, self.test_iter = BucketIterator.splits(\n",
    "        datasets=(self.train_dataset, self.val_dataset, self.test_dataset),\n",
    "        batch_size=batch_size,\n",
    "        sort = False,\n",
    "        sort_within_batch = False\n",
    "    )\n",
    "    # Padding indexes created\n",
    "    self.word_pad_idx = self.word_field.vocab.stoi[self.word_field.pad_token]\n",
    "    self.tag_pad_idx = self.tag_field.vocab.stoi[self.tag_field.pad_token]"
   ]
  },
  {
   "cell_type": "markdown",
   "metadata": {},
   "source": [
    "Below corpus object is instantiated. Alternative pretrained word vectors are available.\n",
    "\n",
    "This object is used to feed model with given datasets.\n",
    "\n",
    "Also, number of sentences for each dataset is printed."
   ]
  },
  {
   "cell_type": "code",
   "execution_count": 8,
   "metadata": {
    "execution": {
     "iopub.execute_input": "2021-08-12T09:42:47.176369Z",
     "iopub.status.busy": "2021-08-12T09:42:47.176010Z",
     "iopub.status.idle": "2021-08-12T09:49:38.140998Z",
     "shell.execute_reply": "2021-08-12T09:49:38.139969Z",
     "shell.execute_reply.started": "2021-08-12T09:42:47.176310Z"
    }
   },
   "outputs": [
    {
     "name": "stderr",
     "output_type": "stream",
     "text": [
      ".vector_cache/glove.6B.zip: 862MB [02:46, 5.17MB/s]                             \n",
      "100%|███████████████████████████████▉| 399999/400000 [00:20<00:00, 19642.37it/s]\n"
     ]
    },
    {
     "name": "stdout",
     "output_type": "stream",
     "text": [
      "Train set: 0 sentences\n",
      "Val set: 0 sentences\n",
      "Test set: 0 sentences\n"
     ]
    }
   ],
   "source": [
    "pretrained = 'glove.6B.100d'\n",
    "# None\n",
    "# 'fasttext.simple.300d'\n",
    "# 'glove.840B.300d'\n",
    "# 'glove.42B.300d'\n",
    "# 'glove.6B.300d'\n",
    "# 'glove.6B.100d'\n",
    "# 'charngram.100d'\n",
    "# 'glove.twitter.27B.100d'\n",
    "\n",
    "corpus = Corpus(\n",
    "    pretrained,\n",
    "    min_word_freq=5,  # any words occurring less than 3 times will be ignored from vocab\n",
    "    batch_size=64)\n",
    "\n",
    "\n",
    "print(f\"Train set: {len(corpus.train_dataset)} sentences\")\n",
    "print(f\"Val set: {len(corpus.val_dataset)} sentences\")\n",
    "print(f\"Test set: {len(corpus.test_dataset)} sentences\")"
   ]
  },
  {
   "cell_type": "markdown",
   "metadata": {},
   "source": [
    "Available  BIO scheme tags are demonstrated below.\n",
    "\n",
    "    <bos>    -  beginning of sentence\n",
    "    <eos>    -  end of sentence\n",
    "    <pad>    -  padding token\n",
    "    <O>      -  outside (Not an entity)\n",
    "    <B-LOC>  -  beginning of LOCATION\n",
    "    <B-PER>  -  beginning of PERSON\n",
    "    <B-ORG>  -  beginning of ORGANIZATION\n",
    "    <B-MISC> -  beginning of MISCELLANEOUS\n",
    "    <I-LOC>  -  inside of LOCATION\n",
    "    <I-PER>  -  inside of PERSON\n",
    "    <I-ORG>  -  inside of ORGANIZATION\n",
    "    <I-MISC> -  inside of MISCELLANEOUS"
   ]
  },
  {
   "cell_type": "code",
   "execution_count": 7,
   "metadata": {
    "execution": {
     "iopub.execute_input": "2021-08-12T09:50:11.451818Z",
     "iopub.status.busy": "2021-08-12T09:50:11.451466Z",
     "iopub.status.idle": "2021-08-12T09:50:11.457223Z",
     "shell.execute_reply": "2021-08-12T09:50:11.456048Z",
     "shell.execute_reply.started": "2021-08-12T09:50:11.451788Z"
    }
   },
   "outputs": [
    {
     "name": "stdout",
     "output_type": "stream",
     "text": [
      "['<pad>', '<bos>', '<eos>', 'O', 'B-LOC', 'B-PER', 'B-ORG', 'I-PER', 'I-ORG', 'B-MISC', 'I-LOC', 'I-MISC']\n"
     ]
    }
   ],
   "source": [
    "print(corpus.tag_field.vocab.itos)"
   ]
  },
  {
   "cell_type": "markdown",
   "metadata": {},
   "source": [
    "**Model**"
   ]
  },
  {
   "cell_type": "markdown",
   "metadata": {},
   "source": [
    "Below, bi-lstm model is created. At first, embeddings are generated. I use pretrained word vectors. Then, these word vectors are fed into bi-LSTM layer. In this layer, sequential dependencies in both directions are learned and concatenated for final representation. Outputs of bi-lstm layers are fed into a fully connected layer, and this layer outputs a vector that has length of number of tags. Finally, using argmax function on this vector in training phase, tags are selected.\n",
    "\n",
    "More recent works use CRF instead of fully connected layer as final step."
   ]
  },
  {
   "cell_type": "code",
   "execution_count": 8,
   "metadata": {
    "execution": {
     "iopub.execute_input": "2021-08-12T09:50:12.075074Z",
     "iopub.status.busy": "2021-08-12T09:50:12.074752Z",
     "iopub.status.idle": "2021-08-12T09:50:12.086166Z",
     "shell.execute_reply": "2021-08-12T09:50:12.084940Z",
     "shell.execute_reply.started": "2021-08-12T09:50:12.075044Z"
    }
   },
   "outputs": [],
   "source": [
    "class BiLSTM(nn.Module):\n",
    "\n",
    "  def __init__(self, input_dim, embedding_dim, hidden_dim, output_dim, lstm_layers,\n",
    "               emb_dropout, lstm_dropout, fc_dropout, word_pad_idx):\n",
    "    super().__init__()\n",
    "    self.embedding_dim = embedding_dim\n",
    "\n",
    "    # LAYER 1: Embedding \n",
    "    self.embedding = nn.Embedding(\n",
    "        num_embeddings=input_dim, \n",
    "        embedding_dim=embedding_dim, \n",
    "        padding_idx=word_pad_idx\n",
    "    )\n",
    "    self.embedding.weight = torch.nn.Parameter(corpus.word_field.vocab.vectors, \n",
    "                                              requires_grad=True)\n",
    "\n",
    "    self.emb_dropout = nn.Dropout(emb_dropout)\n",
    "\n",
    "    # LAYER 2: BiLSTM\n",
    "    self.lstm = nn.LSTM(\n",
    "        input_size=embedding_dim,\n",
    "        hidden_size=hidden_dim,\n",
    "        num_layers=lstm_layers,\n",
    "        bidirectional=True,\n",
    "        dropout=lstm_dropout\n",
    "    )\n",
    "\n",
    "    # LAYER 3: Fully-connected\n",
    "    self.fc_dropout = nn.Dropout(fc_dropout)\n",
    "    self.fc = nn.Linear(hidden_dim * 2, output_dim)  # times 2 for bidirectional\n",
    "\n",
    "  def forward(self, sentence):\n",
    "    # sentence = [sentence length, batch size]\n",
    "\n",
    "    embedding_out = self.emb_dropout(self.embedding(sentence))\n",
    "    # embedding_out = [sentence length, batch size, embedding dim]\n",
    "    \n",
    "    lstm_out, _ = self.lstm(embedding_out)\n",
    "    # lstm_out = [sentence length, batch size, hidden dim * 2]\n",
    "\n",
    "    ner_out = self.fc(self.fc_dropout(lstm_out))\n",
    "    # ner_out = [sentence length, batch size, output dim]\n",
    "    return ner_out\n",
    "\n",
    "  # Initialize all parameters from normal distribution\n",
    "  def init_weights(self):\n",
    "\n",
    "    for name, param in self.named_parameters():\n",
    "      nn.init.normal_(param.data, mean=0, std=0.1)\n",
    "\n",
    "  # Initialize embedding for padding as zero\n",
    "  def init_embeddings(self, word_pad_idx):\n",
    "    self.embedding.weight.data[word_pad_idx] = torch.zeros(self.embedding_dim)\n",
    "\n",
    "  # Used to print number of model parameters\n",
    "  def count_parameters(self):\n",
    "    return sum(p.numel() for p in self.parameters() if p.requires_grad)"
   ]
  },
  {
   "cell_type": "markdown",
   "metadata": {},
   "source": [
    "Initiated bilstm object has following hyperparameters. I try different versions and present them in my report."
   ]
  },
  {
   "cell_type": "code",
   "execution_count": 9,
   "metadata": {
    "execution": {
     "iopub.execute_input": "2021-08-12T09:50:12.396229Z",
     "iopub.status.busy": "2021-08-12T09:50:12.395911Z",
     "iopub.status.idle": "2021-08-12T09:50:12.431110Z",
     "shell.execute_reply": "2021-08-12T09:50:12.429940Z",
     "shell.execute_reply.started": "2021-08-12T09:50:12.396192Z"
    }
   },
   "outputs": [
    {
     "name": "stdout",
     "output_type": "stream",
     "text": [
      "The model has 649,368 trainable parameters.\n",
      "BiLSTM(\n",
      "  (embedding): Embedding(4635, 100, padding_idx=1)\n",
      "  (emb_dropout): Dropout(p=0.2, inplace=False)\n",
      "  (lstm): LSTM(100, 64, num_layers=2, dropout=0.2, bidirectional=True)\n",
      "  (fc_dropout): Dropout(p=0.2, inplace=False)\n",
      "  (fc): Linear(in_features=128, out_features=12, bias=True)\n",
      ")\n"
     ]
    }
   ],
   "source": [
    "bilstm = BiLSTM(\n",
    "    input_dim=len(corpus.word_field.vocab),\n",
    "    embedding_dim=100,\n",
    "    hidden_dim=64,\n",
    "    output_dim=len(corpus.tag_field.vocab),\n",
    "    lstm_layers=2,\n",
    "    emb_dropout=0.2,\n",
    "    lstm_dropout=0.2,\n",
    "    fc_dropout=0.2,\n",
    "    word_pad_idx=corpus.word_pad_idx\n",
    ")\n",
    "bilstm.init_weights()\n",
    "bilstm.init_embeddings(word_pad_idx=corpus.word_pad_idx)\n",
    "print(f\"The model has {bilstm.count_parameters():,} trainable parameters.\")\n",
    "print(bilstm)"
   ]
  },
  {
   "cell_type": "markdown",
   "metadata": {},
   "source": [
    "**Training**"
   ]
  },
  {
   "cell_type": "markdown",
   "metadata": {},
   "source": [
    "Training, validation and inference procedures are all done using NER object below. Most of these steps are modified versions of code snippets from references."
   ]
  },
  {
   "cell_type": "code",
   "execution_count": 10,
   "metadata": {
    "execution": {
     "iopub.execute_input": "2021-08-12T09:50:12.868993Z",
     "iopub.status.busy": "2021-08-12T09:50:12.868632Z",
     "iopub.status.idle": "2021-08-12T09:50:12.897597Z",
     "shell.execute_reply": "2021-08-12T09:50:12.896497Z",
     "shell.execute_reply.started": "2021-08-12T09:50:12.868961Z"
    }
   },
   "outputs": [],
   "source": [
    "class NER(object):\n",
    "\n",
    "  def __init__(self, model, data, optimizer_cls, loss_fn_cls, LR):\n",
    "    self.model = model\n",
    "    self.data = data\n",
    "    self.optimizer = optimizer_cls(model.parameters(), lr=LR)\n",
    "    self.loss_fn = loss_fn_cls(ignore_index=self.data.tag_pad_idx)\n",
    "\n",
    "  @staticmethod\n",
    "  def epoch_time(start_time, end_time):\n",
    "    elapsed_time = end_time - start_time\n",
    "    elapsed_mins = int(elapsed_time / 60)\n",
    "    elapsed_secs = int(elapsed_time - (elapsed_mins * 60))\n",
    "    return elapsed_mins, elapsed_secs\n",
    "\n",
    "  def accuracy(self, preds, y):\n",
    "    max_preds = preds.argmax(dim=1, keepdim=True)  # get the index of the max probability\n",
    "    non_pad_elements = (y != self.data.tag_pad_idx).nonzero()  # prepare masking for paddings\n",
    "    correct = max_preds[non_pad_elements].squeeze(1).eq(y[non_pad_elements])\n",
    "    return correct.sum() / torch.FloatTensor([y[non_pad_elements].shape[0]])\n",
    "\n",
    "  # Train function call this to perform training.\n",
    "  def epoch(self):\n",
    "\n",
    "      epoch_loss = 0\n",
    "      epoch_acc = 0\n",
    "      self.model.train()\n",
    "      for batch in self.data.train_iter:\n",
    "          # text = [sent len, batch size]\n",
    "          text = batch.word\n",
    "          # tags = [sent len, batch size]\n",
    "          true_tags = batch.tag\n",
    "          self.optimizer.zero_grad()\n",
    "          pred_tags = self.model(text)\n",
    "          # to calculate the loss and accuracy, we flatten both prediction and true tags\n",
    "          # flatten pred_tags to [sent len, batch size, output dim]\n",
    "          pred_tags = pred_tags.view(-1, pred_tags.shape[-1])\n",
    "          # flatten true_tags to [sent len * batch size]\n",
    "          true_tags = true_tags.view(-1)\n",
    "          batch_loss = self.loss_fn(pred_tags, true_tags)\n",
    "          batch_acc = self.accuracy(pred_tags, true_tags)\n",
    "          batch_loss.backward()\n",
    "          self.optimizer.step()\n",
    "          epoch_loss += batch_loss.item()\n",
    "          epoch_acc += batch_acc.item()\n",
    "\n",
    "\n",
    "      return epoch_loss / len(self.data.train_iter), epoch_acc / len(self.data.train_iter)\n",
    "\n",
    "\n",
    "  # This function is used to evaluate model. It uses helper functions:\n",
    "  # evaluate(), epoch() and epoch_time().\n",
    "  # Same as training, but this does not apply backpropagation and in eval mode. \n",
    "  def evaluate(self, iterator):\n",
    "\n",
    "      epoch_loss = 0\n",
    "      epoch_acc = 0\n",
    "      self.model.eval()\n",
    "\n",
    "      with torch.no_grad():\n",
    "          for batch in iterator:\n",
    "              text = batch.word\n",
    "              true_tags = batch.tag\n",
    "              pred_tags = self.model(text)\n",
    "              pred_tags = pred_tags.view(-1, pred_tags.shape[-1])\n",
    "              true_tags = true_tags.view(-1)\n",
    "              batch_loss = self.loss_fn(pred_tags, true_tags)\n",
    "              batch_acc = self.accuracy(pred_tags, true_tags)\n",
    "              epoch_loss += batch_loss.item()\n",
    "              epoch_acc += batch_acc.item()\n",
    "\n",
    "\n",
    "      return epoch_loss / len(iterator), epoch_acc / len(iterator)\n",
    "\n",
    "  # This function is used to train model. It uses helper functions:\n",
    "  # evaluate(), epoch() and epoch_time().\n",
    "  def train(self, n_epochs):\n",
    "\n",
    "    v_losses = []\n",
    "    v_acc = []\n",
    "\n",
    "    for epoch in range(n_epochs):\n",
    "        start_time = time.time()\n",
    "        train_loss, train_acc = self.epoch()\n",
    "        end_time = time.time()\n",
    "           \n",
    "        epoch_mins, epoch_secs = NER.epoch_time(start_time, end_time)\n",
    "        print(f\"Epoch: {epoch + 1:02} | Epoch Time: {epoch_mins}m {epoch_secs}s\")\n",
    "        print(f\"\\tTrn Loss: {train_loss:.3f} | Trn Acc: {train_acc * 100:.2f}%\")\n",
    "\n",
    "        val_loss, val_acc = self.evaluate(self.data.val_iter)\n",
    "        v_losses.append(val_loss)\n",
    "        v_acc.append(val_acc)\n",
    "\n",
    "\n",
    "        print(f\"\\tVal Loss: {val_loss:.3f} | Val Acc: {val_acc * 100:.2f}%\")\n",
    "\n",
    "    test_loss, test_acc = self.evaluate(self.data.test_iter)\n",
    "    print(f\"Test Loss: {test_loss:.3f} |  Test Acc: {test_acc * 100:.2f}%\")\n",
    "\n",
    "    #Plot performance of model after training\n",
    "    plt.title('Validation Accuracy of each Epoch')\n",
    "    plt.plot(v_acc)\n",
    "    plt.show()\n",
    "\n",
    "    plt.title('Validation Loss of each Epoch')\n",
    "    plt.plot(v_losses)\n",
    "    plt.show()\n",
    "    \n",
    "  # This function is used for inference after training process.\n",
    "  def infer(self, sentence, true_tags=None):\n",
    "    self.model.eval()\n",
    "\n",
    "    # Tokenize sentence\n",
    "    nlp = spacy.load(\"en_core_web_sm\")\n",
    "    tokens = [token.text.lower() for token in nlp(sentence)]\n",
    "\n",
    "    # Transform to indices based on corpus vocab\n",
    "    numericalized_tokens = [self.data.word_field.vocab.stoi[t] for t in tokens]\n",
    "\n",
    "    # Find unknown words\n",
    "    unk_idx = self.data.word_field.vocab.stoi[self.data.word_field.unk_token]\n",
    "    unks = [t for t, n in zip(tokens, numericalized_tokens) if n == unk_idx]\n",
    "\n",
    "    # Begin prediction\n",
    "    token_tensor = torch.LongTensor(numericalized_tokens)\n",
    "    token_tensor = token_tensor.unsqueeze(-1)\n",
    "    predictions = self.model(token_tensor)\n",
    "\n",
    "    # Convert results to tags\n",
    "    top_predictions = predictions.argmax(-1)\n",
    "    predicted_tags = [self.data.tag_field.vocab.itos[t.item()] for t in top_predictions]\n",
    "\n",
    "    # Code below allows to compare true vs. predicted labels.\n",
    "    # Also shows each token if they are available in training set or not.\n",
    "\n",
    "    max_len_token = max([len(token) for token in tokens] + [len(\"word\")])\n",
    "    max_len_tag = max([len(tag) for tag in predicted_tags] + [len(\"pred\")])\n",
    "\n",
    "    print(\n",
    "        f\"{'word'.ljust(max_len_token)}\\t{'unk'.ljust(max_len_token)}\\t{'pred tag'.ljust(max_len_tag)}\" \n",
    "        + (\"\\ttrue tag\" if true_tags else \"\")\n",
    "        )\n",
    "    \n",
    "    for i, token in enumerate(tokens):\n",
    "      is_unk = \"✓\" if token in unks else \"\"\n",
    "      print(\n",
    "          f\"{token.ljust(max_len_token)}\\t{is_unk.ljust(max_len_token)}\\t{predicted_tags[i].ljust(max_len_tag)}\" \n",
    "          + (f\"\\t{true_tags[i]}\" if true_tags else \"\")\n",
    "          )\n",
    "    \n",
    "    return tokens, predicted_tags, unks"
   ]
  },
  {
   "cell_type": "markdown",
   "metadata": {},
   "source": [
    "NER object is initiated, and specified model (bilstm) is trained using specified data (corpus). This object oriented approach helped me to try different models and parameters."
   ]
  },
  {
   "cell_type": "code",
   "execution_count": 11,
   "metadata": {
    "execution": {
     "iopub.execute_input": "2021-08-12T09:50:13.200298Z",
     "iopub.status.busy": "2021-08-12T09:50:13.199948Z",
     "iopub.status.idle": "2021-08-12T09:54:10.330679Z",
     "shell.execute_reply": "2021-08-12T09:54:10.329896Z",
     "shell.execute_reply.started": "2021-08-12T09:50:13.200264Z"
    }
   },
   "outputs": [
    {
     "name": "stderr",
     "output_type": "stream",
     "text": [
      "/opt/conda/lib/python3.7/site-packages/ipykernel_launcher.py:18: UserWarning: This overload of nonzero is deprecated:\n",
      "\tnonzero()\n",
      "Consider using one of the following signatures instead:\n",
      "\tnonzero(*, bool as_tuple) (Triggered internally at  /opt/conda/conda-bld/pytorch_1603729047590/work/torch/csrc/utils/python_arg_parser.cpp:882.)\n"
     ]
    },
    {
     "name": "stdout",
     "output_type": "stream",
     "text": [
      "Epoch: 01 | Epoch Time: 0m 27s\n",
      "\tTrn Loss: 0.929 | Trn Acc: 79.13%\n",
      "\tVal Loss: 0.549 | Val Acc: 84.04%\n",
      "Epoch: 02 | Epoch Time: 0m 28s\n",
      "\tTrn Loss: 0.392 | Trn Acc: 88.46%\n",
      "\tVal Loss: 0.308 | Val Acc: 91.27%\n",
      "Epoch: 03 | Epoch Time: 0m 27s\n",
      "\tTrn Loss: 0.262 | Trn Acc: 92.06%\n",
      "\tVal Loss: 0.236 | Val Acc: 93.18%\n",
      "Epoch: 04 | Epoch Time: 0m 27s\n",
      "\tTrn Loss: 0.201 | Trn Acc: 94.06%\n",
      "\tVal Loss: 0.195 | Val Acc: 94.52%\n",
      "Epoch: 05 | Epoch Time: 0m 28s\n",
      "\tTrn Loss: 0.162 | Trn Acc: 95.24%\n",
      "\tVal Loss: 0.176 | Val Acc: 95.06%\n",
      "Epoch: 06 | Epoch Time: 0m 27s\n",
      "\tTrn Loss: 0.137 | Trn Acc: 96.01%\n",
      "\tVal Loss: 0.164 | Val Acc: 95.42%\n",
      "Epoch: 07 | Epoch Time: 0m 29s\n",
      "\tTrn Loss: 0.123 | Trn Acc: 96.39%\n",
      "\tVal Loss: 0.156 | Val Acc: 95.70%\n",
      "Epoch: 08 | Epoch Time: 0m 26s\n",
      "\tTrn Loss: 0.112 | Trn Acc: 96.71%\n",
      "\tVal Loss: 0.159 | Val Acc: 95.78%\n",
      "Test Loss: 0.208 |  Test Acc: 94.11%\n"
     ]
    },
    {
     "data": {
      "image/png": "[encoded data removed]",
      "text/plain": [
       "<Figure size 432x288 with 1 Axes>"
      ]
     },
     "metadata": {
      "needs_background": "light"
     },
     "output_type": "display_data"
    },
    {
     "data": {
      "image/png": "[encoded data removed]",
      "text/plain": [
       "<Figure size 432x288 with 1 Axes>"
      ]
     },
     "metadata": {
      "needs_background": "light"
     },
     "output_type": "display_data"
    }
   ],
   "source": [
    "ner = NER(\n",
    "  model=bilstm,\n",
    "  data=corpus,\n",
    "  optimizer_cls=Adam,\n",
    "  loss_fn_cls=nn.CrossEntropyLoss,\n",
    "  LR = 0.0004\n",
    ")\n",
    "ner.train(8)"
   ]
  },
  {
   "cell_type": "markdown",
   "metadata": {},
   "source": [
    "**Inference**"
   ]
  },
  {
   "cell_type": "markdown",
   "metadata": {},
   "source": [
    "Using inference function of ner object, I evaluate qualitative performance of the model. Sentences are randomly generated or taken from news websites.\n",
    "\n",
    "Most important finding is that right punctuation greatly improve model performance. Additionally, model behaves differently for usage of different unknown words. (euro2020 vs. UEFA)\n",
    "\n",
    "I also test that if changing size of the model affect inference time, however, there were no significant difference observed."
   ]
  },
  {
   "cell_type": "code",
   "execution_count": 12,
   "metadata": {
    "execution": {
     "iopub.execute_input": "2021-08-12T09:54:10.332477Z",
     "iopub.status.busy": "2021-08-12T09:54:10.332127Z",
     "iopub.status.idle": "2021-08-12T09:54:11.589094Z",
     "shell.execute_reply": "2021-08-12T09:54:11.588288Z",
     "shell.execute_reply.started": "2021-08-12T09:54:10.332441Z"
    }
   },
   "outputs": [
    {
     "name": "stdout",
     "output_type": "stream",
     "text": [
      "word         \tunk          \tpred tag\ttrue tag\n",
      "denmark      \t             \tB-LOC\tB-LOC\n",
      "captain      \t             \tO    \tO\n",
      "simon        \t             \tB-PER\tB-PER\n",
      "kjaer        \t✓            \tO    \tI-PER\n",
      "congratulated\t✓            \tO    \tO\n",
      "harry        \t✓            \tO    \tB-PER\n",
      "kane         \t✓            \tO    \tI-PER\n",
      "for          \t             \tO    \tO\n",
      "his          \t             \tO    \tO\n",
      "win          \t             \tO    \tO\n",
      "in           \t             \tO    \tO\n",
      "euro2020     \t✓            \tO    \tB-ORG\n",
      ".            \t             \tO    \tO\n",
      "Inference time: 1.2496497631072998\n"
     ]
    }
   ],
   "source": [
    "sentence = \"Denmark captain Simon Kjaer congratulated Harry Kane for his win in Euro2020.\"\n",
    "tags = [\"B-LOC\",\"O\",\"B-PER\",\"I-PER\",\"O\",\"B-PER\",\"I-PER\",\"O\",\"O\",\"O\",\"O\",\"B-ORG\",\"O\"]\n",
    "\n",
    "inf_start_time = time.time()\n",
    "words, infer_tags, unknown_tokens = ner.infer(sentence=sentence, true_tags=tags)\n",
    "inf_end_time = time.time()\n",
    "\n",
    "print(f\"Inference time: {inf_end_time-inf_start_time}\")"
   ]
  },
  {
   "cell_type": "code",
   "execution_count": 13,
   "metadata": {
    "execution": {
     "iopub.execute_input": "2021-08-12T09:54:11.592544Z",
     "iopub.status.busy": "2021-08-12T09:54:11.592271Z",
     "iopub.status.idle": "2021-08-12T09:54:12.428714Z",
     "shell.execute_reply": "2021-08-12T09:54:12.427906Z",
     "shell.execute_reply.started": "2021-08-12T09:54:11.592519Z"
    }
   },
   "outputs": [
    {
     "name": "stdout",
     "output_type": "stream",
     "text": [
      "word         \tunk          \tpred tag\ttrue tag\n",
      "denmark      \t             \tB-LOC \tB-LOC\n",
      "captain      \t             \tO     \tO\n",
      "simon        \t             \tB-PER \tB-PER\n",
      "kjaer        \t✓            \tI-PER \tI-PER\n",
      "congratulated\t✓            \tO     \tO\n",
      "his          \t             \tO     \tO\n",
      "colleague    \t✓            \tO     \tO\n",
      ",            \t             \tO     \tO\n",
      "harry        \t✓            \tB-PER \tB-PER\n",
      "kane         \t✓            \tI-PER \tI-PER\n",
      ",            \t             \tO     \tO\n",
      "for          \t             \tO     \tO\n",
      "his          \t             \tO     \tO\n",
      "win          \t             \tO     \tO\n",
      "in           \t             \tO     \tO\n",
      "uefa         \t             \tB-MISC\tB-MISC\n",
      ".            \t             \tO     \tO\n",
      "Inference time: 0.829500675201416\n"
     ]
    }
   ],
   "source": [
    "sentence = \"Denmark captain Simon Kjaer congratulated his colleague, Harry Kane, for his win in UEFA.\"\n",
    "tags = [\"B-LOC\",\"O\",\"B-PER\",\"I-PER\",\"O\",\"O\",\"O\",\"O\",\"B-PER\",\"I-PER\",\"O\",\"O\",\"O\",\"O\",\"O\",\"B-MISC\",\"O\"]\n",
    "\n",
    "inf_start_time = time.time()\n",
    "words, infer_tags, unknown_tokens = ner.infer(sentence=sentence, true_tags=tags)\n",
    "inf_end_time = time.time()\n",
    "\n",
    "print(f\"Inference time: {inf_end_time-inf_start_time}\")"
   ]
  },
  {
   "cell_type": "code",
   "execution_count": 14,
   "metadata": {
    "execution": {
     "iopub.execute_input": "2021-08-12T09:54:12.430454Z",
     "iopub.status.busy": "2021-08-12T09:54:12.430094Z",
     "iopub.status.idle": "2021-08-12T09:54:13.455961Z",
     "shell.execute_reply": "2021-08-12T09:54:13.455064Z",
     "shell.execute_reply.started": "2021-08-12T09:54:12.430419Z"
    }
   },
   "outputs": [
    {
     "name": "stdout",
     "output_type": "stream",
     "text": [
      "word     \tunk      \tpred tag\ttrue tag\n",
      "president\t         \tO     \tO\n",
      "donald   \t✓        \tB-PER \tB-PER\n",
      "trump    \t✓        \tI-PER \tI-PER\n",
      ",        \t         \tO     \tO\n",
      "posted   \t         \tO     \tO\n",
      "an       \t         \tO     \tO\n",
      "advert   \t✓        \tO     \tO\n",
      "calling  \t         \tO     \tO\n",
      "on       \t         \tO     \tO\n",
      "toyota   \t         \tB-MISC\tB-ORG\n",
      "to       \t         \tO     \tO\n",
      "stop     \t         \tO     \tO\n",
      "making   \t         \tO     \tO\n",
      "donations\t✓        \tO     \tO\n",
      ".        \t         \tO     \tO\n",
      "Inference time: 1.018099308013916\n"
     ]
    }
   ],
   "source": [
    "sentence = \"President Donald Trump, posted an advert calling on Toyota to stop making donations.\"\n",
    "tags = [\"O\",\"B-PER\", \"I-PER\",\"O\",\"O\",\"O\",\"O\",\"O\",\"O\",\"B-ORG\",\"O\",\"O\",\"O\",\"O\",\"O\"]\n",
    "\n",
    "inf_start_time = time.time()\n",
    "words, infer_tags, unknown_tokens = ner.infer(sentence=sentence, true_tags=tags)\n",
    "inf_end_time = time.time()\n",
    "\n",
    "print(f\"Inference time: {inf_end_time-inf_start_time}\")"
   ]
  },
  {
   "cell_type": "markdown",
   "metadata": {},
   "source": [
    "**Future Work**"
   ]
  },
  {
   "cell_type": "markdown",
   "metadata": {},
   "source": [
    "I failed to implement CRF and character level embeddings using CNN. These two additions would solve most of the problems model suffers.\n",
    "\n",
    "For example, CRF layer enable model to consider harmony of tags, and it can prevent having outputs like B-I-I-I. Additionally, more recent works uses CNN to generate character level embeddings, and then these embeddings are concatenated with word embeddings to generate final input for LSTM layer. This approach improves model performance especially on unknown words. My implementation is the simplest deep learning based approach."
   ]
  },
  {
   "cell_type": "code",
   "execution_count": null,
   "metadata": {},
   "outputs": [],
   "source": []
  }
 ],
 "metadata": {
  "kernelspec": {
   "display_name": "Python 3 (ipykernel)",
   "language": "python",
   "name": "python3"
  },
  "language_info": {
   "codemirror_mode": {
    "name": "ipython",
    "version": 3
   },
   "file_extension": ".py",
   "mimetype": "text/x-python",
   "name": "python",
   "nbconvert_exporter": "python",
   "pygments_lexer": "ipython3",
   "version": "3.8.8"
  }
 },
 "nbformat": 4,
 "nbformat_minor": 4
}
